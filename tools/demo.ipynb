{
 "cells": [
  {
   "cell_type": "code",
   "execution_count": 13,
   "metadata": {},
   "outputs": [
    {
     "name": "stdout",
     "output_type": "stream",
     "text": [
      "2023-03-21 11:14:58,926   INFO  -----------------Quick Demo of OpenPCDet-------------------------\n",
      "2023-03-21 11:14:58,926   INFO  Total number of samples: \t1\n",
      "/home/a/anaconda3/envs/openpcdet/lib/python3.9/site-packages/torch/functional.py:504: UserWarning: torch.meshgrid: in an upcoming release, it will be required to pass the indexing argument. (Triggered internally at ../aten/src/ATen/native/TensorShape.cpp:3190.)\n",
      "  return _VF.meshgrid(tensors, **kwargs)  # type: ignore[attr-defined]\n",
      "2023-03-21 11:15:00,302   INFO  ==> Loading parameters from checkpoint ../output/kitti_models/second_drop/fix3/ckpt/checkpoint_epoch_80.pth to CPU\n",
      "2023-03-21 11:15:00,324   INFO  ==> Checkpoint trained from version: pcdet+0.6.0+0000000\n",
      "2023-03-21 11:15:00,331   INFO  ==> Done (loaded 181/181)\n",
      "2023-03-21 11:15:00,472   INFO  Visualized sample index: \t1\n",
      "\u001b[1;33m[Open3D WARNING] GLFW Error: X11: The DISPLAY environment variable is missing\u001b[0;m\n",
      "\u001b[1;33m[Open3D WARNING] Failed to initialize GLFW\u001b[0;m\n",
      "Traceback (most recent call last):\n",
      "  File \"/home/a/mmlab/new_methods/OpenPCDet/OpenPCDet-master/tools/demo.py\", line 112, in <module>\n",
      "    main()\n",
      "  File \"/home/a/mmlab/new_methods/OpenPCDet/OpenPCDet-master/tools/demo.py\", line 100, in main\n",
      "    V.draw_scenes(\n",
      "  File \"/home/a/mmlab/new_methods/OpenPCDet/OpenPCDet-master/tools/visual_utils/open3d_vis_utils.py\", line 49, in draw_scenes\n",
      "    vis.get_render_option().point_size = 1.0\n",
      "AttributeError: 'NoneType' object has no attribute 'point_size'\n"
     ]
    }
   ],
   "source": [
    "!python demo.py --cfg_file cfgs/kitti_models/second_drop.yaml --ckpt ../output/kitti_models/second_drop/fix3/ckpt/checkpoint_epoch_80.pth --data_path /home/a/data2/kitti/training/velodyne/000000.bin"
   ]
  },
  {
   "cell_type": "code",
   "execution_count": 2,
   "metadata": {},
   "outputs": [
    {
     "name": "stdout",
     "output_type": "stream",
     "text": [
      "\n"
     ]
    }
   ],
   "source": [
    "!echo $DISPLAY"
   ]
  },
  {
   "cell_type": "code",
   "execution_count": 1,
   "metadata": {},
   "outputs": [],
   "source": [
    "!export DISPLAY=:0.0"
   ]
  }
 ],
 "metadata": {
  "kernelspec": {
   "display_name": "Python 3.9.16 ('openpcdet': conda)",
   "language": "python",
   "name": "python3"
  },
  "language_info": {
   "codemirror_mode": {
    "name": "ipython",
    "version": 3
   },
   "file_extension": ".py",
   "mimetype": "text/x-python",
   "name": "python",
   "nbconvert_exporter": "python",
   "pygments_lexer": "ipython3",
   "version": "3.9.16"
  },
  "orig_nbformat": 4,
  "vscode": {
   "interpreter": {
    "hash": "61f483249f13f057411409830c5c7f8fb01f0a7761b337340ecc66f7b98f882d"
   }
  }
 },
 "nbformat": 4,
 "nbformat_minor": 2
}
